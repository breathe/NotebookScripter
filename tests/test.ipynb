{
 "cells": [
  {
   "cell_type": "code",
   "execution_count": 1,
   "metadata": {},
   "outputs": [],
   "source": [
    "from NotebookScripter import (rehydrate as __rehydrate__, dehydrate_return_values as __dehydrate_return_values__)\n",
    "__rehydrate__(b'80035d7100285d7101287d71027d7103655d7104287d71057d7106580d00000072657475726e5f76616c75657371075812000000706172616d65746572697a65645f6e616d657108580b0000006672656e63685f6d6f6465710986710a7365652e')"
   ]
  },
  {
   "cell_type": "markdown",
   "metadata": {},
   "source": [
    "HELLO *FROM MARKDOWN*"
   ]
  },
  {
   "cell_type": "code",
   "execution_count": 2,
   "metadata": {},
   "outputs": [],
   "source": [
    "import matplotlib.pyplot as plt\n",
    "from mpl_toolkits.mplot3d import Axes3D\n",
    "import numpy as np\n",
    "from NotebookScripter import receive_parameter"
   ]
  },
  {
   "cell_type": "code",
   "execution_count": 3,
   "metadata": {},
   "outputs": [],
   "source": [
    "# define some parameters that can passed in externally when run via run_notebook\n",
    "# the value passed to receive_parameter is the default value and will be returned if not\n",
    "# overridden by notebook caller\n",
    "parameterized_name = receive_parameter(parameterized_name=\"default world\")\n",
    "french_mode = receive_parameter(french_mode=None)\n",
    "\n",
    "\n",
    "if french_mode:\n",
    "    greeting_string = \"Salut {0}\"\n",
    "else:\n",
    "    greeting_string = \"Hello {0}\""
   ]
  },
  {
   "cell_type": "code",
   "execution_count": 4,
   "metadata": {},
   "outputs": [],
   "source": [
    "def hello():\n",
    "    return greeting_string.format(parameterized_name)"
   ]
  },
  {
   "cell_type": "code",
   "execution_count": 5,
   "metadata": {},
   "outputs": [],
   "source": [
    "get_ipython().run_line_magic('matplotlib', 'inline')\n",
    "\n",
    "\n",
    "x = np.random.rand(20)\n",
    "y = np.random.rand(20)\n",
    "z = np.random.rand(20)\n",
    "r = np.random.rand(20)\n",
    "\n",
    "# fig = plt.figure()\n",
    "# ax = fig.add_subplot(111, projection='3d')\n",
    "\n",
    "# ax.scatter(x, y, z, s=np.pi * r**2 * 100, c='blue', alpha=0.75)\n",
    "\n",
    "# plt.show()"
   ]
  },
  {
   "cell_type": "code",
   "execution_count": 6,
   "metadata": {},
   "outputs": [
    {
     "data": {
      "text/plain": [
       "b'80037d7100285812000000706172616d65746572697a65645f6e616d657101580d00000064656661756c7420776f726c647102580b0000006672656e63685f6d6f646571034e752e'"
      ]
     },
     "execution_count": 6,
     "metadata": {},
     "output_type": "execute_result"
    }
   ],
   "source": [
    "__dehydrate_return_values__(locals())"
   ]
  }
 ],
 "metadata": {
  "language": "python",
  "language_info": {
   "codemirror_mode": {
    "name": "ipython",
    "version": 3
   },
   "file_extension": ".py",
   "mimetype": "text/x-python",
   "name": "python",
   "nbconvert_exporter": "python",
   "pygments_lexer": "ipython3",
   "version": "3.7.3"
  }
 },
 "nbformat": 4,
 "nbformat_minor": 2
}
