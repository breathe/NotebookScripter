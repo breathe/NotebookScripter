{
 "cells": [
  {
   "cell_type": "markdown",
   "metadata": {},
   "source": [
    "This notebook can be called as a function using NotebookScripter.\n",
    "\n",
    "The parameter `a_useful_mode_switch` can be overridden externally to produce different behaviors controlled by the caller."
   ]
  },
  {
   "cell_type": "code",
   "execution_count": 7,
   "metadata": {
    "NotebookScripterHookName": "mode"
   },
   "outputs": [],
   "source": [
    "from NotebookScripter import receive_parameter\n",
    "\n",
    "# To override the value, pass a_useful_mode_switch to the call to run_notebook:\n",
    "# run_notebook(\"./Example.ipynb\", a_useful_mode_switch=\"non_idiot_mode\")\n",
    "a_useful_mode_switch = receive_parameter(a_useful_mode_switch=None)"
   ]
  },
  {
   "cell_type": "code",
   "execution_count": 2,
   "metadata": {},
   "outputs": [],
   "source": [
    "some_useful_value = \"You can access this variable on the module object returned\"\n",
    "\n",
    "def hello(arg):\n",
    "    \"\"\"Call this function from the run_notebook return object if you want\"\"\"\n",
    "    print(\"Hello {0}\".format(arg))\n",
    "    \n",
    "# module scope is a fine place for running side-effects.\n",
    "# These will be evaluated everytime run_notebook is called\n",
    "if a_useful_mode_switch == \"idiot_mode\":\n",
    "    hello(\"Flat Earthers!\")\n",
    "elif a_useful_mode_switch == \"non_idiot_mode\":\n",
    "    hello(\"World!\")"
   ]
  }
 ],
 "metadata": {
  "celltoolbar": "Edit Metadata",
  "kernelspec": {
   "display_name": "Python 3",
   "language": "python",
   "name": "python3"
  },
  "language_info": {
   "codemirror_mode": {
    "name": "ipython",
    "version": 3
   },
   "file_extension": ".py",
   "mimetype": "text/x-python",
   "name": "python",
   "nbconvert_exporter": "python",
   "pygments_lexer": "ipython3",
   "version": "3.7.1"
  }
 },
 "nbformat": 4,
 "nbformat_minor": 2
}
