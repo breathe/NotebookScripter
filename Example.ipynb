{
 "cells": [
  {
   "cell_type": "markdown",
   "metadata": {},
   "source": [
    "Cell metadata can be used to identify cells that should not be executed.  This allows one to easily extract parameters from the notebook which can be provided externally to parameterize the notebook behavior when used from an external script.\n",
    "\n",
    "Use `View -> Cell Toolbar -> Edit Metadata` to add the Edit Metadata button to every cell.\n",
    "\n",
    "Then edit a cell and add \"NotebookScripter\": \"skip_cell\" to the cell metadata for a cell to skip the execution of that cell when called from external code.\n",
    "\n",
    "The general pattern is:\n",
    "- define 'parameter definition' cell[s] with the skip_cell metadata\n",
    "- put whatever values you want to supply for the parameters in that cell.  Those values will be used when editing in the notebook environment\n",
    "- provide alternative values for those parameters when invoking run_notebook from calling code\n"
   ]
  },
  {
   "cell_type": "code",
   "execution_count": 1,
   "metadata": {},
   "outputs": [],
   "source": [
    "a_useful_mode_switch = None"
   ]
  },
  {
   "cell_type": "code",
   "execution_count": 2,
   "metadata": {},
   "outputs": [],
   "source": [
    "some_useful_value = \"You can access this variable on the module object returned from run_notebook\"\n",
    "\n",
    "def hello(arg):\n",
    "    \"\"\"Call this function from the run_notebook return object if you want\"\"\"\n",
    "    print(\"Hello {0}\".format(arg))\n",
    "    \n",
    "# module scope is a fine place for running side-effects.\n",
    "# These will be evaluated everytime run_notebook is called\n",
    "if a_useful_mode_switch == \"idiot_mode\":\n",
    "    hello(\"Flat Earthers!\")\n",
    "elif a_useful_mode_switch == \"non_idiot_mode\":\n",
    "    hello(\"World!\")"
   ]
  }
 ],
 "metadata": {
  "celltoolbar": "Edit Metadata",
  "kernelspec": {
   "display_name": "Python 3",
   "language": "python",
   "name": "python3"
  },
  "language_info": {
   "codemirror_mode": {
    "name": "ipython",
    "version": 3
   },
   "file_extension": ".py",
   "mimetype": "text/x-python",
   "name": "python",
   "nbconvert_exporter": "python",
   "pygments_lexer": "ipython3",
   "version": "3.6.7"
  }
 },
 "nbformat": 4,
 "nbformat_minor": 2
}
