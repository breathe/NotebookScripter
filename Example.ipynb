{
 "cells": [
  {
   "cell_type": "markdown",
   "metadata": {},
   "source": [
    "This notebook can be called as a function using NotebookScripter.\n",
    "\n",
    "The parameter `a_useful_mode_switch` can be supplied externally to produce different behaviors controlled by the caller.\n",
    "\n",
    "Cell metadata is used to identify cells after which externally supplied values should be injected into the notebook scope.  This allows one to easily identify points where it makes sense to merge externally supplied values into those defined within the notebook to configure the notebook behavior externally while working well with normal notebook development workflows.\n",
    "\n",
    "Within the jupyter notebook UI, use `View -> Cell Toolbar -> Edit Metadata` to add the Edit Metadata buttons to the UI -- these can be clicked to edit the metadata associatd with any cell.\n",
    "\n",
    "Edit the cell metadata and add \"NotebookScripterHookName\": \"my_hook_name\" to the cell metadata for a cell.  You can choose the name of the hook -- just remember what it is and supply that name as a keyword argument when calling run_notebook.  \n",
    "\n",
    "After the cell executes any provided caller supplied values passed via keyword argument `my_hook_name` will be merged into the module scope.\n",
    "\n",
    "The general pattern is:\n",
    "- define the parameters you intend to be supplied externally in a cell (typically somewhere near the top of your notebook)\n",
    "- edit the Cell Metadata of that cell and provide a NotebookScripterHookName \n",
    "- pass hookName={\"some_dict\": ...} to the call to run_notebook.  \n",
    "\n",
    "Provided values will be merged into module scope after the marked cell executes.  Subsequent cells will see any caller supplied values provided instead of those defined in the notebook."
   ]
  },
  {
   "cell_type": "code",
   "execution_count": 7,
   "metadata": {
    "NotebookScripterHookName": "mode"
   },
   "outputs": [],
   "source": [
    "# Notice -- this cell contains Metadata \"NotebookScripterHookName\": \"mode\"\n",
    "# To override the value of 'a_useful_mode_switch' when invoked externally:\n",
    "# run_notebook(\"./Example.ipynb\", mode={\"a_useful_mode_switch\": \"non_idiot_mode\"})\n",
    "a_useful_mode_switch = None"
   ]
  },
  {
   "cell_type": "code",
   "execution_count": 2,
   "metadata": {},
   "outputs": [],
   "source": [
    "some_useful_value = \"You can access this variable on the module object returned from run_notebook\"\n",
    "\n",
    "def hello(arg):\n",
    "    \"\"\"Call this function from the run_notebook return object if you want\"\"\"\n",
    "    print(\"Hello {0}\".format(arg))\n",
    "    \n",
    "# module scope is a fine place for running side-effects.\n",
    "# These will be evaluated everytime run_notebook is called\n",
    "if a_useful_mode_switch == \"idiot_mode\":\n",
    "    hello(\"Flat Earthers!\")\n",
    "elif a_useful_mode_switch == \"non_idiot_mode\":\n",
    "    hello(\"World!\")"
   ]
  }
 ],
 "metadata": {
  "celltoolbar": "Edit Metadata",
  "kernelspec": {
   "display_name": "Python 3",
   "language": "python",
   "name": "python3"
  },
  "language_info": {
   "codemirror_mode": {
    "name": "ipython",
    "version": 3
   },
   "file_extension": ".py",
   "mimetype": "text/x-python",
   "name": "python",
   "nbconvert_exporter": "python",
   "pygments_lexer": "ipython3",
   "version": "3.6.7"
  }
 },
 "nbformat": 4,
 "nbformat_minor": 2
}
